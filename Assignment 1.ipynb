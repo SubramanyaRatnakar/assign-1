{
 "cells": [
  {
   "cell_type": "markdown",
   "id": "5570926b-d11f-4f38-8eb8-320c3a945a41",
   "metadata": {},
   "source": [
    "1.Who developed python programming language?\n",
    "Ans: Guido Van Rossum."
   ]
  },
  {
   "cell_type": "raw",
   "id": "976bcd3b-38a2-44f5-bfe9-00c97341faef",
   "metadata": {},
   "source": [
    "2. Which type of programming does python support?\n",
    "Ans: Python is an interpreted programming language, supporting object-oriented, structured, and functional programming."
   ]
  },
  {
   "cell_type": "raw",
   "id": "1a6864e6-bda3-48ae-968a-8f013f4925a3",
   "metadata": {},
   "source": [
    "3. Is python case sensitive when dealing with identifiers?\n",
    "Ans: Yes, python is case sensitive."
   ]
  },
  {
   "cell_type": "raw",
   "id": "6c348a4f-2e85-4e1d-8ce4-ed74fab84e53",
   "metadata": {},
   "source": [
    "4. What is the correct extension of the python file?\n",
    "Ans: Generally it is .py and in Jupyter notebook is .ipynb."
   ]
  },
  {
   "cell_type": "raw",
   "id": "c288fa8c-e76f-4f19-b11f-37adf6570dba",
   "metadata": {},
   "source": [
    "5. is python code compiled or intepreted?\n",
    "Ans: Python is intepreted Language."
   ]
  },
  {
   "cell_type": "raw",
   "id": "d9601580-fb99-4126-af0c-716641538e0b",
   "metadata": {},
   "source": [
    "6. Name a few blocks of code used to define in Python language?\n",
    "Ans: Indentation is used to define the blocks of code in python."
   ]
  },
  {
   "cell_type": "raw",
   "id": "a26161d2-015d-4566-aa83-0e0c96ddb01a",
   "metadata": {},
   "source": [
    "7. State a character used to give single-line comments in python?\n",
    "Ans: '#' is used to give single-line comments in python."
   ]
  },
  {
   "cell_type": "raw",
   "id": "5b224243-8981-4319-a95b-a93c19f4e485",
   "metadata": {},
   "source": [
    "8. Mention functions which can help us to find the version of python that we are currently working o?n\n",
    "Ans: The function sys. version can help us to find the version of python that we are currently working on."
   ]
  },
  {
   "cell_type": "raw",
   "id": "d25816d7-deb8-41d7-9eed-40a6c5fd6c81",
   "metadata": {},
   "source": [
    "9. Python supports the creation of anonymous functions at runtime ,using a construct called lambda."
   ]
  },
  {
   "cell_type": "raw",
   "id": "b4a149d6-a473-4bc1-bacd-392c65120c91",
   "metadata": {},
   "source": [
    "10. What does pip stands for in python?\n",
    "Ans: Preferred installer program."
   ]
  },
  {
   "cell_type": "raw",
   "id": "5394b44e-d1e6-4b29-bbdb-10b87703af0a",
   "metadata": {},
   "source": [
    "11. Mention a Few built functions in python?\n",
    "Ans: print( ) function\n",
    "     type( ) function\n",
    "     input( ) function\n",
    "     len() function\n",
    "     max() function\n",
    "     min() function\n",
    "     "
   ]
  },
  {
   "cell_type": "raw",
   "id": "b0b2024d-76d6-44cf-ba08-fe9bc262979b",
   "metadata": {},
   "source": [
    "12. What is the maximum possible length of an identifier in python?\n",
    "Ans: 79 characters."
   ]
  },
  {
   "cell_type": "raw",
   "id": "b9ac0a1a-740c-4428-b22d-970775051923",
   "metadata": {},
   "source": [
    "13. What are the benefits of using Python?\n",
    "Ans: 1. Free and Open Source.\n",
    "     2. Easy to code.\n",
    "     3. Easy to Read.\n",
    "     4. Object-Oriented Language.\n",
    "     5. GUI Programming Support.\n",
    "     6. High-Level Language.\n",
    "     7. Extensible feature.\n",
    "     8. Easy to Debug.\n",
    "     9. Python is a Portable language.\n",
    "     10. Python is an Integrated language."
   ]
  },
  {
   "cell_type": "raw",
   "id": "e072668f-62e8-415a-acf5-e6c7e2d60b85",
   "metadata": {},
   "source": [
    "14. How is the memory managed in python?\n",
    "Ans: Memory in Python is managed by Python private heap space. All Python objects and data structures are located in a private heap. This private heap is taken care of by Python Interpreter itself, and a programmer doesn't have access to this private heap."
   ]
  },
  {
   "cell_type": "raw",
   "id": "b7fd9723-51d7-4ae6-a9d8-6dad71a13f3f",
   "metadata": {},
   "source": [
    "15. How to install python on Windows and set path variables?\n",
    "Ans: Install python from this link https://www.python.org/downloads/ \n",
    "After this, install it on your PC. Look for the location where PYTHON has been installed on your PC using tge following command on your command prompt: cmd python. \n",
    "Then go to advanced system settings and add new variable and name it as PYTHON_NAME and paste the copied path. \n",
    "Then look for the path variable, select it's value and select edit \n",
    "Add a semicolon towards the end of the value if it's not present and then type %PYTHON_HOME%."
   ]
  },
  {
   "cell_type": "raw",
   "id": "a76c874b-9f12-4e79-b05a-77de1fe2d5a4",
   "metadata": {},
   "source": [
    "16. Is indentation is required in python?\n",
    "Ans: Yes."
   ]
  }
 ],
 "metadata": {
  "kernelspec": {
   "display_name": "Python 3 (ipykernel)",
   "language": "python",
   "name": "python3"
  },
  "language_info": {
   "codemirror_mode": {
    "name": "ipython",
    "version": 3
   },
   "file_extension": ".py",
   "mimetype": "text/x-python",
   "name": "python",
   "nbconvert_exporter": "python",
   "pygments_lexer": "ipython3",
   "version": "3.10.8"
  }
 },
 "nbformat": 4,
 "nbformat_minor": 5
}
